{
  "cells": [
    {
      "cell_type": "markdown",
      "metadata": {},
      "source": [
        "# Sentiment Analysis Notebook\n",
        "Exploratory analysis and sentiment classification using sample tweets."
      ]
    },
    {
      "cell_type": "code",
      "execution_count": null,
      "metadata": {},
      "outputs": [],
      "source": [
        "import pandas as pd\n",
        "from textblob import TextBlob\n",
        "\n",
        "df = pd.read_csv('../data/sample_tweets.csv')\n",
        "df['polarity'] = df['text'].apply(lambda x: TextBlob(x).sentiment.polarity)\n",
        "df['sentiment'] = df['polarity'].apply(lambda p: 'Positive' if p>0 else ('Negative' if p<0 else 'Neutral'))\n",
        "df.head()"
      ]
    }
  ],
  "metadata": {},
  "nbformat": 4,
  "nbformat_minor": 2
}
